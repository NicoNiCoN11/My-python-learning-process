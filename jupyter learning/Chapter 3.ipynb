{
 "cells": [
  {
   "cell_type": "code",
   "execution_count": 1,
   "id": "0c44e076-9398-4a50-80de-d32758379983",
   "metadata": {},
   "outputs": [
    {
     "data": {
      "text/plain": [
       "(4, 0, 2)"
      ]
     },
     "execution_count": 1,
     "metadata": {},
     "output_type": "execute_result"
    }
   ],
   "source": [
    "tuple([4, 0, 2])"
   ]
  },
  {
   "cell_type": "code",
   "execution_count": 2,
   "id": "1801f04d-8ec5-483d-bc81-0117144bdf68",
   "metadata": {},
   "outputs": [],
   "source": [
    "tup = tuple('string')"
   ]
  },
  {
   "cell_type": "code",
   "execution_count": 3,
   "id": "2a06b9a5-f337-4850-979d-db9ebe65b1ed",
   "metadata": {},
   "outputs": [
    {
     "data": {
      "text/plain": [
       "('s', 't', 'r', 'i', 'n', 'g')"
      ]
     },
     "execution_count": 3,
     "metadata": {},
     "output_type": "execute_result"
    }
   ],
   "source": [
    "tup"
   ]
  },
  {
   "cell_type": "code",
   "execution_count": 4,
   "id": "909b51c1-5059-4b97-aeba-979ec0c85c86",
   "metadata": {},
   "outputs": [
    {
     "data": {
      "text/plain": [
       "'s'"
      ]
     },
     "execution_count": 4,
     "metadata": {},
     "output_type": "execute_result"
    }
   ],
   "source": [
    "tup[0]"
   ]
  },
  {
   "cell_type": "code",
   "execution_count": 5,
   "id": "ea69fd5c-32e7-4724-bf2b-35b750d80b07",
   "metadata": {},
   "outputs": [
    {
     "ename": "AttributeError",
     "evalue": "'str' object has no attribute 'append'",
     "output_type": "error",
     "traceback": [
      "\u001b[1;31m---------------------------------------------------------------------------\u001b[0m",
      "\u001b[1;31mAttributeError\u001b[0m                            Traceback (most recent call last)",
      "Cell \u001b[1;32mIn[5], line 1\u001b[0m\n\u001b[1;32m----> 1\u001b[0m \u001b[43mtup\u001b[49m\u001b[43m[\u001b[49m\u001b[38;5;241;43m1\u001b[39;49m\u001b[43m]\u001b[49m\u001b[38;5;241;43m.\u001b[39;49m\u001b[43mappend\u001b[49m(\u001b[38;5;241m3\u001b[39m)\n",
      "\u001b[1;31mAttributeError\u001b[0m: 'str' object has no attribute 'append'"
     ]
    }
   ],
   "source": [
    "tup[1].append(3)"
   ]
  },
  {
   "cell_type": "code",
   "execution_count": null,
   "id": "3c4b749b-682d-4a7c-bd9e-987c44aae205",
   "metadata": {},
   "outputs": [],
   "source": [
    "tup = tuple(['foo', [1, 2], True])"
   ]
  },
  {
   "cell_type": "code",
   "execution_count": null,
   "id": "1dbb4630-f842-48e1-9457-619b3cf048b9",
   "metadata": {},
   "outputs": [],
   "source": [
    "tup[1].append(3)"
   ]
  },
  {
   "cell_type": "code",
   "execution_count": null,
   "id": "7741f503-f82e-4cfe-a117-027a84acf771",
   "metadata": {},
   "outputs": [],
   "source": [
    "tup"
   ]
  },
  {
   "cell_type": "code",
   "execution_count": null,
   "id": "17fc4869-5a0a-44e2-b5bd-e68229b6708c",
   "metadata": {},
   "outputs": [],
   "source": [
    "(4, None, 'foo') + (6, 0) + ('bar',)"
   ]
  },
  {
   "cell_type": "code",
   "execution_count": null,
   "id": "b5e02ad6-ad9e-44bb-b600-59628d8ef4df",
   "metadata": {},
   "outputs": [],
   "source": [
    "('foo', 'bar') * 4"
   ]
  },
  {
   "cell_type": "code",
   "execution_count": null,
   "id": "96881564-c8fe-47ae-8203-fccea93c8dde",
   "metadata": {},
   "outputs": [],
   "source": [
    "tup = (4, 5, 6)"
   ]
  },
  {
   "cell_type": "code",
   "execution_count": null,
   "id": "be139c2e-39d2-4a9d-adf5-75227c845671",
   "metadata": {},
   "outputs": [],
   "source": [
    "a, b, c = tup"
   ]
  },
  {
   "cell_type": "code",
   "execution_count": null,
   "id": "636a8b09-3146-4d1e-8293-a93b74691964",
   "metadata": {},
   "outputs": [],
   "source": [
    "b"
   ]
  },
  {
   "cell_type": "code",
   "execution_count": null,
   "id": "d0352226-8f9f-4df4-89b7-2a98a459529e",
   "metadata": {},
   "outputs": [],
   "source": [
    "tup = 4, 5, (6, 7)"
   ]
  },
  {
   "cell_type": "code",
   "execution_count": null,
   "id": "724818b0-f114-4d43-9e7e-ed7dea7e6cd6",
   "metadata": {},
   "outputs": [],
   "source": [
    "a, b, (c, d) = tup"
   ]
  },
  {
   "cell_type": "code",
   "execution_count": null,
   "id": "e279c78b-983d-44f6-b803-d80a0230ef68",
   "metadata": {},
   "outputs": [],
   "source": [
    "d"
   ]
  },
  {
   "cell_type": "code",
   "execution_count": null,
   "id": "901703be-c5fd-4fd6-80ba-a409cd6c0856",
   "metadata": {},
   "outputs": [],
   "source": [
    "a, b = 1, 2"
   ]
  },
  {
   "cell_type": "code",
   "execution_count": null,
   "id": "3d300595-968c-4882-aaa2-a8168e0eaa9a",
   "metadata": {},
   "outputs": [],
   "source": [
    "a"
   ]
  },
  {
   "cell_type": "code",
   "execution_count": null,
   "id": "879c7ccb-f639-44a2-846f-b306374176db",
   "metadata": {},
   "outputs": [],
   "source": [
    "b"
   ]
  },
  {
   "cell_type": "code",
   "execution_count": null,
   "id": "fd4e93de-e52b-415c-a13f-8b4bc122a9de",
   "metadata": {},
   "outputs": [],
   "source": [
    "b, a = a, b"
   ]
  },
  {
   "cell_type": "code",
   "execution_count": null,
   "id": "554fd7eb-ad10-4479-bf74-7749b41cb284",
   "metadata": {},
   "outputs": [],
   "source": [
    "a"
   ]
  },
  {
   "cell_type": "code",
   "execution_count": null,
   "id": "f025f637-2c21-46ca-9ac4-0848d832dabb",
   "metadata": {},
   "outputs": [],
   "source": [
    "b"
   ]
  },
  {
   "cell_type": "code",
   "execution_count": null,
   "id": "ccf7e65c-e248-4940-9285-c6af25c8c529",
   "metadata": {},
   "outputs": [],
   "source": [
    "seq = [(1, 2, 3), (4, 5, 6), (7, 8, 9)]"
   ]
  },
  {
   "cell_type": "code",
   "execution_count": null,
   "id": "b9d2c1a6-233c-4667-9371-32cd8e91fc19",
   "metadata": {},
   "outputs": [],
   "source": [
    "for a, b, c in seq:\n",
    "    print('a={0}, b={1}, c={2}'.format(a, b, c))"
   ]
  },
  {
   "cell_type": "code",
   "execution_count": null,
   "id": "f3341c7f-06dc-43e2-864b-a85535a80e8f",
   "metadata": {},
   "outputs": [],
   "source": [
    "values = 1, 2, 3, 4, 5"
   ]
  },
  {
   "cell_type": "code",
   "execution_count": null,
   "id": "7c23ff48-83b0-4061-a08b-c9264a417a8d",
   "metadata": {},
   "outputs": [],
   "source": [
    "a, b, *rest = values"
   ]
  },
  {
   "cell_type": "code",
   "execution_count": null,
   "id": "2b045972-16ea-4af3-b481-6580304d96f1",
   "metadata": {},
   "outputs": [],
   "source": [
    "a, b"
   ]
  },
  {
   "cell_type": "code",
   "execution_count": null,
   "id": "21ae43a3-151e-4fb5-8888-30e93d2e7e9c",
   "metadata": {},
   "outputs": [],
   "source": [
    "rest"
   ]
  },
  {
   "cell_type": "code",
   "execution_count": null,
   "id": "b49031b1-5773-483f-b821-4ac214c641bd",
   "metadata": {},
   "outputs": [],
   "source": [
    "a, b, *_=values"
   ]
  },
  {
   "cell_type": "code",
   "execution_count": null,
   "id": "6e1faf0c-d314-4abe-b1a7-cd5c15cc475a",
   "metadata": {},
   "outputs": [],
   "source": [
    "_"
   ]
  },
  {
   "cell_type": "code",
   "execution_count": null,
   "id": "634d42cc-248a-4bb0-ae8b-39b13f481e84",
   "metadata": {},
   "outputs": [],
   "source": [
    "a = (1, 2, 2, 2, 3, 4, 2)"
   ]
  },
  {
   "cell_type": "code",
   "execution_count": null,
   "id": "e1eab041-8da2-41e0-9bc7-e121c2f5d782",
   "metadata": {},
   "outputs": [],
   "source": [
    "a.count"
   ]
  },
  {
   "cell_type": "code",
   "execution_count": null,
   "id": "7259d80c-53a9-4218-83d1-bc9e1c563011",
   "metadata": {},
   "outputs": [],
   "source": [
    "a.count(2)"
   ]
  },
  {
   "cell_type": "code",
   "execution_count": null,
   "id": "57325f97-2b6b-4611-a8c6-aa106075c73d",
   "metadata": {},
   "outputs": [],
   "source": [
    "a_list = [2, 3, 7, None]"
   ]
  },
  {
   "cell_type": "code",
   "execution_count": null,
   "id": "4c4f005c-63e1-47f6-bf84-4723f3747f15",
   "metadata": {},
   "outputs": [],
   "source": [
    "tup = ('foo', 'bar', 'baz')"
   ]
  },
  {
   "cell_type": "code",
   "execution_count": null,
   "id": "0ad1f97b-18af-47a3-819a-894af4e0ca4c",
   "metadata": {},
   "outputs": [],
   "source": [
    "b_list = list(tup)"
   ]
  },
  {
   "cell_type": "code",
   "execution_count": null,
   "id": "a36f3c8f-de5a-44ff-9ef9-487813b0fcbd",
   "metadata": {},
   "outputs": [],
   "source": [
    "b_list"
   ]
  },
  {
   "cell_type": "code",
   "execution_count": null,
   "id": "c8bac816-8c19-496b-98db-b375fbaad4c8",
   "metadata": {},
   "outputs": [],
   "source": [
    "b_list[1] = 'peekaboo'"
   ]
  },
  {
   "cell_type": "code",
   "execution_count": null,
   "id": "e0ba3733-6455-4864-858c-c6713e17dd94",
   "metadata": {},
   "outputs": [],
   "source": [
    "b_list"
   ]
  },
  {
   "cell_type": "code",
   "execution_count": null,
   "id": "0c249bc7-62a5-40e5-a5c0-3a10d9eabd0f",
   "metadata": {},
   "outputs": [],
   "source": [
    "gen = range(10)"
   ]
  },
  {
   "cell_type": "code",
   "execution_count": null,
   "id": "6b3a2fe5-b036-427f-bb38-1aecfe3fd705",
   "metadata": {},
   "outputs": [],
   "source": [
    "gen"
   ]
  },
  {
   "cell_type": "code",
   "execution_count": null,
   "id": "459e8aa2-b30c-42b1-bb17-3e4b7bb006c5",
   "metadata": {},
   "outputs": [],
   "source": [
    "list(gen)"
   ]
  },
  {
   "cell_type": "code",
   "execution_count": null,
   "id": "c57e3165-3f09-4f0f-801d-4122564a7bb3",
   "metadata": {},
   "outputs": [],
   "source": [
    "b_list.append('dwarf')"
   ]
  },
  {
   "cell_type": "code",
   "execution_count": null,
   "id": "20f1de6e-3b41-4d0d-9cad-d2eb1338ee79",
   "metadata": {},
   "outputs": [],
   "source": [
    "b_list"
   ]
  },
  {
   "cell_type": "code",
   "execution_count": null,
   "id": "024f962a-81a9-4ee0-b373-126992737c2f",
   "metadata": {},
   "outputs": [],
   "source": [
    "b_list.insert(1, 'red')"
   ]
  },
  {
   "cell_type": "code",
   "execution_count": null,
   "id": "bc3554d6-616a-4678-acdb-c899fc7c1c96",
   "metadata": {},
   "outputs": [],
   "source": [
    "b_list"
   ]
  },
  {
   "cell_type": "code",
   "execution_count": null,
   "id": "b226ffc5-c423-43ec-892d-e814791ef3a1",
   "metadata": {},
   "outputs": [],
   "source": [
    "b_list.pop(2)"
   ]
  },
  {
   "cell_type": "code",
   "execution_count": null,
   "id": "def0dbef-e2ef-49cd-aeaf-7242caa0d4bf",
   "metadata": {},
   "outputs": [],
   "source": [
    "b_list"
   ]
  },
  {
   "cell_type": "code",
   "execution_count": null,
   "id": "df78f91a-e688-4339-90b8-5e78fc3df7e1",
   "metadata": {},
   "outputs": [],
   "source": [
    "b_list.append('foo')"
   ]
  },
  {
   "cell_type": "code",
   "execution_count": null,
   "id": "4625c035-1b0f-432c-b2c6-95c9f49cf38e",
   "metadata": {},
   "outputs": [],
   "source": [
    "b_list"
   ]
  },
  {
   "cell_type": "code",
   "execution_count": null,
   "id": "6dda41c6-29e2-4dac-9721-59592808e269",
   "metadata": {},
   "outputs": [],
   "source": [
    "b_list"
   ]
  },
  {
   "cell_type": "code",
   "execution_count": null,
   "id": "a103638a-d45f-4888-9f30-0cf9813aff38",
   "metadata": {},
   "outputs": [],
   "source": [
    "b_list.remove('foo')"
   ]
  },
  {
   "cell_type": "code",
   "execution_count": null,
   "id": "fd532315-e123-40d8-858b-0028d72f2c27",
   "metadata": {},
   "outputs": [],
   "source": [
    "b_list"
   ]
  },
  {
   "cell_type": "code",
   "execution_count": null,
   "id": "fd2997ff-1e52-46da-a912-30d849f0724d",
   "metadata": {},
   "outputs": [],
   "source": [
    "'dwarf' in b_list"
   ]
  },
  {
   "cell_type": "code",
   "execution_count": null,
   "id": "e7917db7-4411-42c7-bfef-34bd74b63912",
   "metadata": {},
   "outputs": [],
   "source": [
    "'dwarf' not in b_list"
   ]
  },
  {
   "cell_type": "code",
   "execution_count": null,
   "id": "e2962887-88f2-46ff-9fdc-9b95f87e6c43",
   "metadata": {},
   "outputs": [],
   "source": [
    "[4, None, 'foo'] + [7, 8, (2, 3)]"
   ]
  },
  {
   "cell_type": "code",
   "execution_count": null,
   "id": "5e66c2b2-d889-4e6f-8e3e-aca64516e80c",
   "metadata": {},
   "outputs": [],
   "source": [
    "x = [4, None, 'foo']"
   ]
  },
  {
   "cell_type": "code",
   "execution_count": null,
   "id": "c13270e8-229e-4b52-9345-46a783fb8f48",
   "metadata": {},
   "outputs": [],
   "source": [
    "x.extend([7, 8, (2, 3)])"
   ]
  },
  {
   "cell_type": "code",
   "execution_count": null,
   "id": "cf72df0d-d467-43be-b002-0df5df53b310",
   "metadata": {},
   "outputs": [],
   "source": [
    "x"
   ]
  },
  {
   "cell_type": "code",
   "execution_count": null,
   "id": "5fb22b91-cf6a-45e7-8334-69be21670bc4",
   "metadata": {},
   "outputs": [],
   "source": [
    "a = [7, 2, 5, 1, 3]"
   ]
  },
  {
   "cell_type": "code",
   "execution_count": null,
   "id": "378bf86d-c044-4a8a-bafa-f6c3044a0e0b",
   "metadata": {},
   "outputs": [],
   "source": [
    "a.sort()"
   ]
  },
  {
   "cell_type": "code",
   "execution_count": null,
   "id": "d5a878ba-dae3-442b-a24a-e83f19879f23",
   "metadata": {},
   "outputs": [],
   "source": [
    "a"
   ]
  },
  {
   "cell_type": "code",
   "execution_count": null,
   "id": "074b8c8b-651f-44b4-93ea-d7793eda1b71",
   "metadata": {},
   "outputs": [],
   "source": [
    "b = ['saw', 'small', 'He', 'foxes', 'six']"
   ]
  },
  {
   "cell_type": "code",
   "execution_count": null,
   "id": "80190f52-9bd4-410c-9759-3381c4775b44",
   "metadata": {},
   "outputs": [],
   "source": [
    "b.sort(key=len)"
   ]
  },
  {
   "cell_type": "code",
   "execution_count": null,
   "id": "ba74f2d8-e354-453c-a150-8fce5f31c06a",
   "metadata": {},
   "outputs": [],
   "source": [
    "b"
   ]
  },
  {
   "cell_type": "code",
   "execution_count": null,
   "id": "7b4cf137-66b8-47d5-8c2b-0e548f15d499",
   "metadata": {},
   "outputs": [],
   "source": [
    "import bisect  # bisect模块帮助寻找找到插入的位置"
   ]
  },
  {
   "cell_type": "code",
   "execution_count": null,
   "id": "a645e862-785b-4f0f-abd0-d696822f56d0",
   "metadata": {},
   "outputs": [],
   "source": [
    "c = [1, 2, 2, 2, 3, 4, 7]"
   ]
  },
  {
   "cell_type": "code",
   "execution_count": null,
   "id": "d478cb6b-e59e-4e7f-9f3e-b2bc319bf32c",
   "metadata": {},
   "outputs": [],
   "source": [
    "bisect.bisect(c, 2)  # 找到元素应当被插入的位置"
   ]
  },
  {
   "cell_type": "code",
   "execution_count": null,
   "id": "3f5709d0-a655-4228-901b-83da0a6d0cb1",
   "metadata": {},
   "outputs": [],
   "source": [
    "bisect.bisect(c, 5)"
   ]
  },
  {
   "cell_type": "code",
   "execution_count": null,
   "id": "17881d5b-d558-449f-a9d4-ac56bacf3bdc",
   "metadata": {},
   "outputs": [],
   "source": [
    "bisect.insort(c, 6)  # 将6插入相应的位置"
   ]
  },
  {
   "cell_type": "code",
   "execution_count": null,
   "id": "3ae86386-b14c-4d9f-b53e-0515ca77c6a4",
   "metadata": {},
   "outputs": [],
   "source": [
    "c"
   ]
  },
  {
   "cell_type": "code",
   "execution_count": null,
   "id": "b1b91b18-7f4f-4ff7-b66f-197c1a85bdc7",
   "metadata": {},
   "outputs": [],
   "source": [
    "seq = [7, 2, 3, 7, 5, 6, 0, 1]"
   ]
  },
  {
   "cell_type": "code",
   "execution_count": null,
   "id": "a245a64b-e5b2-4fe0-be02-ffafb1a2dfbd",
   "metadata": {},
   "outputs": [],
   "source": [
    "seq[1:5]"
   ]
  },
  {
   "cell_type": "code",
   "execution_count": null,
   "id": "a87b0ade-a6b4-44eb-8f65-64c30b200919",
   "metadata": {},
   "outputs": [],
   "source": [
    "seq[3:4] = [6, 3]"
   ]
  },
  {
   "cell_type": "code",
   "execution_count": null,
   "id": "26244e8e-ac35-4e4b-81d5-e1bd924c3401",
   "metadata": {},
   "outputs": [],
   "source": [
    "seq"
   ]
  },
  {
   "cell_type": "code",
   "execution_count": null,
   "id": "aaed35cc-9a7b-496f-b419-015699d44bd2",
   "metadata": {},
   "outputs": [],
   "source": [
    "seq[:5]"
   ]
  },
  {
   "cell_type": "code",
   "execution_count": null,
   "id": "edf462e0-8171-4d71-8378-0b18d9219eff",
   "metadata": {},
   "outputs": [],
   "source": [
    "seq[3:]"
   ]
  },
  {
   "cell_type": "code",
   "execution_count": null,
   "id": "2b30d571-41eb-41a0-9138-1453c5757e93",
   "metadata": {},
   "outputs": [],
   "source": [
    "seq[-4:]"
   ]
  },
  {
   "cell_type": "code",
   "execution_count": null,
   "id": "cbc1c520-040d-45a2-b2ae-a5f2f3098150",
   "metadata": {},
   "outputs": [],
   "source": [
    "seq[:-4]"
   ]
  },
  {
   "cell_type": "code",
   "execution_count": null,
   "id": "fa36c03a-830b-4a41-bcd8-4447de48eb1f",
   "metadata": {},
   "outputs": [],
   "source": [
    "seq[::-1]"
   ]
  },
  {
   "cell_type": "code",
   "execution_count": null,
   "id": "bba73208-8d21-4042-964c-05d7f328844e",
   "metadata": {},
   "outputs": [],
   "source": [
    "some_list = ['foo', 'bar', 'baz']"
   ]
  },
  {
   "cell_type": "code",
   "execution_count": null,
   "id": "ea83a35d-1610-4faa-97bf-0f619835899b",
   "metadata": {},
   "outputs": [],
   "source": [
    "mapping = {}"
   ]
  },
  {
   "cell_type": "code",
   "execution_count": null,
   "id": "e7c88828-a4a5-484d-8930-3bd7fb75dcc2",
   "metadata": {},
   "outputs": [],
   "source": [
    "for i, v in enumerate(some_list):\n",
    "    mapping[v] = i"
   ]
  },
  {
   "cell_type": "code",
   "execution_count": null,
   "id": "f8487b1e-cd51-424a-a4ff-c3a629ba6b77",
   "metadata": {},
   "outputs": [],
   "source": [
    "mapping"
   ]
  },
  {
   "cell_type": "code",
   "execution_count": null,
   "id": "215e3102-f735-4a69-b239-88ccca996c2f",
   "metadata": {},
   "outputs": [],
   "source": [
    "sorted([7, 1, 2, 6, 0, 3, 2])"
   ]
  },
  {
   "cell_type": "code",
   "execution_count": null,
   "id": "ca1a94b0-8de6-409c-a0c3-a62edb33651d",
   "metadata": {},
   "outputs": [],
   "source": [
    "sorted('horse race')"
   ]
  },
  {
   "cell_type": "code",
   "execution_count": null,
   "id": "046d80df-5c0d-4896-9258-10819d511d05",
   "metadata": {},
   "outputs": [],
   "source": [
    "seq1 = ['foo', 'bar', 'baz']"
   ]
  },
  {
   "cell_type": "code",
   "execution_count": null,
   "id": "05ab4e0a-f930-4da1-89d6-792cd1c283a0",
   "metadata": {},
   "outputs": [],
   "source": [
    "seq2 = ['one', 'two', 'three']"
   ]
  },
  {
   "cell_type": "code",
   "execution_count": null,
   "id": "af8af53c-3cc7-4259-88e1-0ac2276fc050",
   "metadata": {},
   "outputs": [],
   "source": [
    "zipped = zip(seq1, seq2)"
   ]
  },
  {
   "cell_type": "code",
   "execution_count": null,
   "id": "14711043-e9c0-454c-86ed-9f3af7229791",
   "metadata": {},
   "outputs": [],
   "source": [
    "list(zipped)"
   ]
  },
  {
   "cell_type": "code",
   "execution_count": null,
   "id": "67b2122c-a09f-4566-a557-a3294b32a975",
   "metadata": {},
   "outputs": [],
   "source": [
    "zipped"
   ]
  },
  {
   "cell_type": "code",
   "execution_count": null,
   "id": "7861f201-6d97-446a-8bea-53669a7da933",
   "metadata": {},
   "outputs": [],
   "source": [
    "seq3 = [False, True]"
   ]
  },
  {
   "cell_type": "code",
   "execution_count": null,
   "id": "c732f435-c2de-41f2-86c2-b7fd0d32e744",
   "metadata": {},
   "outputs": [],
   "source": [
    "list(zip(seq1, seq2, seq3))"
   ]
  },
  {
   "cell_type": "code",
   "execution_count": null,
   "id": "cefc1d9d-608c-4021-a9b6-9909cae36a65",
   "metadata": {},
   "outputs": [],
   "source": [
    "for i, (a, b) in enumerate(zip(seq1, seq2)):\n",
    "    print('{0}: {1}, {2}'.format(i, a, b))"
   ]
  },
  {
   "cell_type": "code",
   "execution_count": null,
   "id": "04cfda82-75e3-41c9-9094-23dc5d4e3d2b",
   "metadata": {},
   "outputs": [],
   "source": [
    "pitchers = [('Nolan', 'Ryan'), ('Roger', 'Clemens'), ('Schilling', 'Curt')]"
   ]
  },
  {
   "cell_type": "code",
   "execution_count": null,
   "id": "7d6af770-b1fb-4e5b-9717-f418f6907802",
   "metadata": {},
   "outputs": [],
   "source": [
    "first_names, last_names = zip(*pitchers)"
   ]
  },
  {
   "cell_type": "code",
   "execution_count": null,
   "id": "75454bfb-6a08-4126-8f29-848119ba7abd",
   "metadata": {},
   "outputs": [],
   "source": [
    "first_names"
   ]
  },
  {
   "cell_type": "code",
   "execution_count": null,
   "id": "95be7e8d-d692-4e04-b06f-b5ff4a19d581",
   "metadata": {},
   "outputs": [],
   "source": [
    "last_names"
   ]
  },
  {
   "cell_type": "code",
   "execution_count": null,
   "id": "e570908f-3b56-40f8-b019-bf3e82b3ee16",
   "metadata": {},
   "outputs": [],
   "source": [
    "list(reversed(range(10)))"
   ]
  },
  {
   "cell_type": "code",
   "execution_count": null,
   "id": "8a40e0f5-a14e-46d3-8d02-70a35ab9cca7",
   "metadata": {},
   "outputs": [],
   "source": [
    "expty_dict = {}"
   ]
  },
  {
   "cell_type": "code",
   "execution_count": null,
   "id": "467e1fca-4ad4-4aff-a8a4-7a214d07eb8e",
   "metadata": {},
   "outputs": [],
   "source": [
    "d1 = {'a' : 'some value', 'b' : [1, 2, 3, 4]}"
   ]
  },
  {
   "cell_type": "code",
   "execution_count": null,
   "id": "08fdd44c-5bc3-4126-a0b0-477a71822df4",
   "metadata": {},
   "outputs": [],
   "source": [
    "d1"
   ]
  },
  {
   "cell_type": "code",
   "execution_count": null,
   "id": "a5803ee2-20ca-4bda-902a-9a22cbf5d0a9",
   "metadata": {},
   "outputs": [],
   "source": [
    "d1['b']"
   ]
  },
  {
   "cell_type": "code",
   "execution_count": null,
   "id": "72f83e8c-4243-4cde-b145-ff2e41a5f679",
   "metadata": {},
   "outputs": [],
   "source": [
    "d1[7] = 'an integer'"
   ]
  },
  {
   "cell_type": "code",
   "execution_count": null,
   "id": "faae62be-da48-4020-84d5-26a16ed3e4d2",
   "metadata": {},
   "outputs": [],
   "source": [
    "d1"
   ]
  },
  {
   "cell_type": "code",
   "execution_count": null,
   "id": "924abc44-0bf7-4c9a-bc8b-b64ff4a20f26",
   "metadata": {},
   "outputs": [],
   "source": [
    "'b' in d1"
   ]
  },
  {
   "cell_type": "code",
   "execution_count": null,
   "id": "f1038249-28a7-44cb-ae78-f77356e5a10e",
   "metadata": {},
   "outputs": [],
   "source": [
    "d1[5] = 'some value'"
   ]
  },
  {
   "cell_type": "code",
   "execution_count": null,
   "id": "80fea029-f668-4700-a10b-3b291f3fb432",
   "metadata": {},
   "outputs": [],
   "source": [
    "d1"
   ]
  },
  {
   "cell_type": "code",
   "execution_count": null,
   "id": "4c1276aa-98d2-4f16-94ba-b67dc31b8a70",
   "metadata": {},
   "outputs": [],
   "source": [
    "d1['dummy'] = 'another value'"
   ]
  },
  {
   "cell_type": "code",
   "execution_count": null,
   "id": "0d19953e-91c5-4f70-9527-2f289885e8eb",
   "metadata": {},
   "outputs": [],
   "source": [
    "d1"
   ]
  },
  {
   "cell_type": "code",
   "execution_count": null,
   "id": "0432e43d-6124-41d9-a827-c76b27620d3b",
   "metadata": {},
   "outputs": [],
   "source": [
    "del d1[5]"
   ]
  },
  {
   "cell_type": "code",
   "execution_count": null,
   "id": "3dc00e00-4e4c-4889-98ab-dea3b15f7ab2",
   "metadata": {},
   "outputs": [],
   "source": [
    "d1"
   ]
  },
  {
   "cell_type": "code",
   "execution_count": null,
   "id": "2ed27d7c-4155-48c4-a0c3-a557bda7275e",
   "metadata": {},
   "outputs": [],
   "source": [
    "ret = d1.pop('dummy')"
   ]
  },
  {
   "cell_type": "code",
   "execution_count": null,
   "id": "f3195f3b-0f50-4aee-9c44-557644d3e9b9",
   "metadata": {},
   "outputs": [],
   "source": [
    "ret"
   ]
  },
  {
   "cell_type": "code",
   "execution_count": null,
   "id": "d5293492-0ac0-4355-89af-3afeddbd1514",
   "metadata": {},
   "outputs": [],
   "source": [
    "d1"
   ]
  },
  {
   "cell_type": "code",
   "execution_count": null,
   "id": "454bc78b-4f61-45b4-bc3f-5c1173fa5b37",
   "metadata": {},
   "outputs": [],
   "source": [
    "list(d1.keys())"
   ]
  },
  {
   "cell_type": "code",
   "execution_count": null,
   "id": "25a19072-27f9-4aa1-b2b5-4379a4caa93f",
   "metadata": {},
   "outputs": [],
   "source": [
    "list(d1.values())"
   ]
  },
  {
   "cell_type": "code",
   "execution_count": null,
   "id": "10b481ff-de5c-4106-b3f8-fd8ab7a55d00",
   "metadata": {},
   "outputs": [],
   "source": [
    "d1.update({'b': 'foo', 'c': 12})"
   ]
  },
  {
   "cell_type": "code",
   "execution_count": null,
   "id": "f62f7b3b-58dd-4c26-9cd4-0370ececc30b",
   "metadata": {},
   "outputs": [],
   "source": [
    "d1"
   ]
  },
  {
   "cell_type": "code",
   "execution_count": null,
   "id": "74e186e8-79be-4328-93f0-da5f23299d3d",
   "metadata": {},
   "outputs": [],
   "source": [
    "mapping = dict(zip(range(5),reversed(range(5))))"
   ]
  },
  {
   "cell_type": "code",
   "execution_count": null,
   "id": "b526fe3d-ab38-43d1-b7b7-dac421635ec7",
   "metadata": {},
   "outputs": [],
   "source": [
    "mapping"
   ]
  },
  {
   "cell_type": "code",
   "execution_count": null,
   "id": "79c22a79-bf03-438c-96e8-8c79d226322c",
   "metadata": {},
   "outputs": [],
   "source": [
    "words = ['apple', 'bat', 'bar', 'atom', 'book']"
   ]
  },
  {
   "cell_type": "code",
   "execution_count": null,
   "id": "3a60cc06-8ce4-4cb1-8bf3-6e630a2915c8",
   "metadata": {},
   "outputs": [],
   "source": [
    "by_letter = {}"
   ]
  },
  {
   "cell_type": "code",
   "execution_count": null,
   "id": "e065ae26-2504-43fa-be2a-21215e2d38bc",
   "metadata": {},
   "outputs": [],
   "source": [
    "for word in words:\n",
    "    letter = word[0]\n",
    "    if letter not in by_letter:\n",
    "        by_letter[letter] = [word]\n",
    "    else:\n",
    "        by_letter[letter].append(word)"
   ]
  },
  {
   "cell_type": "code",
   "execution_count": null,
   "id": "75fc2ccd-d394-46fe-813a-9636a041b2ba",
   "metadata": {},
   "outputs": [],
   "source": [
    "by_letter"
   ]
  },
  {
   "cell_type": "code",
   "execution_count": null,
   "id": "e65f449b-da5f-4174-b349-f5a942c41dec",
   "metadata": {},
   "outputs": [],
   "source": [
    "pigs = ['apple', 'bat', 'bar', 'atom', 'book']"
   ]
  },
  {
   "cell_type": "code",
   "execution_count": null,
   "id": "e68711a9-557d-4ec3-9a2c-c13eca82c6b5",
   "metadata": {},
   "outputs": [],
   "source": [
    "by_letter = {}"
   ]
  },
  {
   "cell_type": "code",
   "execution_count": null,
   "id": "ba30cdcf-dcf8-4eaa-bc6b-51a71ba75a2c",
   "metadata": {},
   "outputs": [],
   "source": [
    "for word in pigs:\n",
    "    letter = word[0]\n",
    "    if letter not in by_letter:\n",
    "        by_letter[letter] = [word]\n",
    "    else:\n",
    "        by_letter[letter].append(word)"
   ]
  },
  {
   "cell_type": "code",
   "execution_count": null,
   "id": "d3c3f1c1-045a-4084-9817-79110358de87",
   "metadata": {},
   "outputs": [],
   "source": [
    "by_letter"
   ]
  },
  {
   "cell_type": "code",
   "execution_count": null,
   "id": "5ddcb092-70ca-4e30-a9a3-7a44d2dd0515",
   "metadata": {},
   "outputs": [],
   "source": [
    "pigs = ['apple', 'bat', 'bar', 'atom', 'book','cnm', 'duck']"
   ]
  },
  {
   "cell_type": "code",
   "execution_count": null,
   "id": "8c36c0cf-5ec2-4677-aeac-d2d4d917c7ad",
   "metadata": {},
   "outputs": [],
   "source": [
    "by_letter = {}"
   ]
  },
  {
   "cell_type": "code",
   "execution_count": null,
   "id": "45662871-bad5-4994-a85a-88a6b0698d5e",
   "metadata": {},
   "outputs": [],
   "source": [
    "for word in pigs:\n",
    "    letter = word[0]\n",
    "    if letter not in by_letter:\n",
    "        by_letter[letter] = [word]\n",
    "    else:\n",
    "        by_letter[letter].append(word)"
   ]
  },
  {
   "cell_type": "code",
   "execution_count": null,
   "id": "cc52fbf0-291d-4798-a0c3-d5214f25c4e9",
   "metadata": {},
   "outputs": [],
   "source": [
    "by_letter"
   ]
  },
  {
   "cell_type": "code",
   "execution_count": null,
   "id": "98f96dd6-6181-415e-8e75-c21d5ee1ebe1",
   "metadata": {},
   "outputs": [],
   "source": [
    "hash('string')"
   ]
  },
  {
   "cell_type": "code",
   "execution_count": null,
   "id": "ecb34a3e-105a-4523-98ab-c1fa00479a92",
   "metadata": {},
   "outputs": [],
   "source": [
    "d = {}"
   ]
  },
  {
   "cell_type": "code",
   "execution_count": null,
   "id": "2ba5f720-4616-4762-ad78-1f0e6a8214b9",
   "metadata": {},
   "outputs": [],
   "source": [
    "d[tuple([1, 2, 3])] = 5 "
   ]
  },
  {
   "cell_type": "code",
   "execution_count": null,
   "id": "f9cab349-e1b1-47ad-8073-5921560a657b",
   "metadata": {},
   "outputs": [],
   "source": [
    "d"
   ]
  },
  {
   "cell_type": "code",
   "execution_count": null,
   "id": "8f9ae45a-4023-4185-9945-d3bc342005af",
   "metadata": {},
   "outputs": [],
   "source": [
    "set([2,2,2,1,3,3])"
   ]
  },
  {
   "cell_type": "code",
   "execution_count": null,
   "id": "d07e60b9-fb04-405b-a9bc-2282e67f1541",
   "metadata": {},
   "outputs": [],
   "source": [
    " {1,1,1,2,2,2,3,3,3}"
   ]
  },
  {
   "cell_type": "code",
   "execution_count": null,
   "id": "e2665a2b-52d7-4300-90bc-56973a826e0a",
   "metadata": {},
   "outputs": [],
   "source": [
    "a = {1,2,3,4,5}"
   ]
  },
  {
   "cell_type": "code",
   "execution_count": null,
   "id": "2e529ffb-f12b-461e-956a-14839d5c5e3d",
   "metadata": {},
   "outputs": [],
   "source": [
    "b = {3,4,5,6,7,8}"
   ]
  },
  {
   "cell_type": "code",
   "execution_count": null,
   "id": "db15bc2b-4bc1-44ce-994f-d05f5ea9a508",
   "metadata": {},
   "outputs": [],
   "source": [
    "a.union(b)"
   ]
  },
  {
   "cell_type": "code",
   "execution_count": null,
   "id": "2d426b6b-f370-4b14-ae65-69379456358b",
   "metadata": {},
   "outputs": [],
   "source": [
    "a|b"
   ]
  },
  {
   "cell_type": "code",
   "execution_count": null,
   "id": "4bee883b-8d0b-45f2-be62-c27273fdfbc2",
   "metadata": {},
   "outputs": [],
   "source": [
    "a.intersection(b)"
   ]
  },
  {
   "cell_type": "code",
   "execution_count": null,
   "id": "a1bbc58a-db8e-4cc3-b39d-42c5ee169e96",
   "metadata": {},
   "outputs": [],
   "source": [
    "c = a.copy()"
   ]
  },
  {
   "cell_type": "code",
   "execution_count": null,
   "id": "4d60fcb2-c67f-4cb3-a4cf-4591235fa4e2",
   "metadata": {},
   "outputs": [],
   "source": [
    "c |= b"
   ]
  },
  {
   "cell_type": "code",
   "execution_count": null,
   "id": "47b08daa-6c6d-46d5-8b35-b1da65f3113e",
   "metadata": {},
   "outputs": [],
   "source": [
    "c"
   ]
  },
  {
   "cell_type": "code",
   "execution_count": null,
   "id": "36be96b0-9062-4fa9-b4df-79c14770882c",
   "metadata": {},
   "outputs": [],
   "source": [
    "d = a.copy()"
   ]
  },
  {
   "cell_type": "code",
   "execution_count": null,
   "id": "5b0e6307-366c-4ed8-88db-8aa673854593",
   "metadata": {},
   "outputs": [],
   "source": [
    "d&=b"
   ]
  },
  {
   "cell_type": "code",
   "execution_count": null,
   "id": "54b58f8a-c8d4-4432-91bd-71c049731156",
   "metadata": {},
   "outputs": [],
   "source": [
    "d"
   ]
  },
  {
   "cell_type": "code",
   "execution_count": null,
   "id": "47f4014d-0814-4b01-b888-98f2b27a5718",
   "metadata": {},
   "outputs": [],
   "source": [
    "my_data = [1, 2, 3, 4]"
   ]
  },
  {
   "cell_type": "code",
   "execution_count": null,
   "id": "a4236ec4-d472-4fcf-95f2-dfb6ddc427c9",
   "metadata": {},
   "outputs": [],
   "source": [
    "my_set = {tuple(my_data)}"
   ]
  },
  {
   "cell_type": "code",
   "execution_count": null,
   "id": "8a909835-c496-4366-9b0e-a388b6bb6a1d",
   "metadata": {},
   "outputs": [],
   "source": [
    "my_set"
   ]
  },
  {
   "cell_type": "code",
   "execution_count": null,
   "id": "5b093ea8-d3e2-4d1a-8269-14cd3d696bdf",
   "metadata": {},
   "outputs": [],
   "source": [
    "a_set = {1, 2, 3, 4, 5}"
   ]
  },
  {
   "cell_type": "code",
   "execution_count": null,
   "id": "650c0306-86b4-4bd4-a71c-8181934d148c",
   "metadata": {},
   "outputs": [],
   "source": [
    "{1, 2, 3}.issubset(a_set)"
   ]
  },
  {
   "cell_type": "code",
   "execution_count": null,
   "id": "3126c855-7e9c-421a-9c16-4bcc5cd8d8a7",
   "metadata": {},
   "outputs": [],
   "source": [
    "# 给定一个字符串列表，过滤出长度大于2的，并将字母改写成大写\n",
    "strings = ['a', 'as', 'bat', 'car', 'dove', 'python']"
   ]
  },
  {
   "cell_type": "code",
   "execution_count": null,
   "id": "48fde5e8-8790-412e-8cdc-433f06ea9f3c",
   "metadata": {},
   "outputs": [],
   "source": [
    "[x.upper() for x in strings if len(x) > 2]"
   ]
  },
  {
   "cell_type": "code",
   "execution_count": null,
   "id": "241a6666-0b10-4c50-8bf2-7ba3a95ba02d",
   "metadata": {},
   "outputs": [],
   "source": [
    "# 想要一个包含列表中字符串长度的集合\n",
    "unique_lengths = {len(x) for x in strings}"
   ]
  },
  {
   "cell_type": "code",
   "execution_count": null,
   "id": "fd1e0b9f-d970-449f-ab96-e22405d7470f",
   "metadata": {},
   "outputs": [],
   "source": [
    "unique_lengths"
   ]
  },
  {
   "cell_type": "code",
   "execution_count": null,
   "id": "b4f9cd22-2876-49d0-81a9-367e67a94091",
   "metadata": {},
   "outputs": [],
   "source": [
    "set(map(len, strings))"
   ]
  },
  {
   "cell_type": "code",
   "execution_count": null,
   "id": "aa505859-1de2-4ee9-8c06-13077799ef70",
   "metadata": {},
   "outputs": [],
   "source": [
    "# 创建一个字符串与其位置相匹配的字典作为字典推导式\n",
    "loc_mapping = {val : index for index, val in enumerate(strings)}"
   ]
  },
  {
   "cell_type": "code",
   "execution_count": null,
   "id": "a31c0ce6-803d-43b2-b595-097e313dc791",
   "metadata": {},
   "outputs": [],
   "source": [
    "loc_mapping"
   ]
  },
  {
   "cell_type": "code",
   "execution_count": null,
   "id": "62fd0987-e4d3-4a65-9da0-d36e198aa6a1",
   "metadata": {},
   "outputs": [],
   "source": [
    "# 获得一个列表包含有两个以上e或E字母的名字。"
   ]
  },
  {
   "cell_type": "code",
   "execution_count": null,
   "id": "18bac9e7-624d-4bdb-a3bd-7b1053b84593",
   "metadata": {},
   "outputs": [],
   "source": [
    "all_data = [['John', 'Emily', 'Michael', 'Mary', 'Steven'], ['Maria', 'Juan', 'Jevier', 'Natelie', 'Pilar', 'Eve', 'EdE']]"
   ]
  },
  {
   "cell_type": "code",
   "execution_count": null,
   "id": "02da7b00-01de-4016-96d7-9d82b529d2e4",
   "metadata": {},
   "outputs": [],
   "source": [
    "names_of_interest = []\n",
    "for names in all_data:\n",
    "    enough_es = [name for name in names if name.count('e') >= 2 or name.count('E') + name.count('e') >= 2]\n",
    "    names_of_interest.extend(enough_es)\n",
    "names_of_interest"
   ]
  },
  {
   "cell_type": "code",
   "execution_count": null,
   "id": "2981f460-fb81-4751-a318-dc528ccde037",
   "metadata": {},
   "outputs": [],
   "source": [
    "# 通过嵌套列表推导式实现"
   ]
  },
  {
   "cell_type": "code",
   "execution_count": null,
   "id": "5f553c47-5dcb-4924-a12f-4fa8b88f1a7f",
   "metadata": {},
   "outputs": [],
   "source": [
    "result = [name for names in all_data for name in names\n",
    "         if name.count('E') + name.count('e') >= 2]"
   ]
  },
  {
   "cell_type": "code",
   "execution_count": null,
   "id": "d0bdfaf2-c23d-46b8-ba3c-9774d7ce7f4d",
   "metadata": {},
   "outputs": [],
   "source": [
    "result"
   ]
  },
  {
   "cell_type": "code",
   "execution_count": null,
   "id": "813e94f2-6926-4802-a1ad-a55d64516d23",
   "metadata": {},
   "outputs": [],
   "source": [
    "some_tuple = [(1, 2, 3), (4, 5, 6), (7, 8, 9)]"
   ]
  },
  {
   "cell_type": "code",
   "execution_count": null,
   "id": "42707278-74b4-40cf-a926-0872e32a3d48",
   "metadata": {},
   "outputs": [],
   "source": [
    "flattened = [x for pig in some_tuple for x in pig]"
   ]
  },
  {
   "cell_type": "code",
   "execution_count": null,
   "id": "3d06cc7d-ddb9-4758-a2dd-a9d7d5b6f801",
   "metadata": {},
   "outputs": [],
   "source": [
    "flattened"
   ]
  },
  {
   "cell_type": "code",
   "execution_count": null,
   "id": "d1338d95-56a0-4e5f-af84-46b5e0074090",
   "metadata": {},
   "outputs": [],
   "source": [
    "flattened = []"
   ]
  },
  {
   "cell_type": "code",
   "execution_count": null,
   "id": "9ffcb91f-8a51-442d-9f3f-266c3d594d8b",
   "metadata": {},
   "outputs": [],
   "source": [
    "for tup in some_tuple:\n",
    "    for x in tup:\n",
    "        flattened.append(x)\n",
    "flattened"
   ]
  },
  {
   "cell_type": "code",
   "execution_count": null,
   "id": "1a7d46ab-f26f-4eaa-81ac-e19130b3057c",
   "metadata": {},
   "outputs": [],
   "source": [
    "def my_function(x, y, z = 1.5):\n",
    "    if z > 1:\n",
    "        return z * (x + y)\n",
    "    else:\n",
    "        return z / (x + y)"
   ]
  },
  {
   "cell_type": "code",
   "execution_count": null,
   "id": "e4ff27c1-7582-4f33-af7b-ba976c034822",
   "metadata": {},
   "outputs": [],
   "source": [
    "my_function(1, 2, 3)"
   ]
  },
  {
   "cell_type": "code",
   "execution_count": 7,
   "id": "d8b4e916-dfca-4372-b338-fcb6f808820b",
   "metadata": {},
   "outputs": [
    {
     "name": "stdout",
     "output_type": "stream",
     "text": [
      "[0, 1, 2, 3, 4]\n"
     ]
    }
   ],
   "source": [
    "def func():\n",
    "    global a\n",
    "    a = []\n",
    "    for i in range(5):\n",
    "        a.append(i)\n",
    "func()\n",
    "print(a)"
   ]
  },
  {
   "cell_type": "code",
   "execution_count": null,
   "id": "c9a9e003-2fd4-4f9d-bbf4-842e2abee290",
   "metadata": {},
   "outputs": [],
   "source": [
    "a = None\n",
    "def bind_a_variable():\n",
    "    global a\n",
    "    a = []\n",
    "bind_a_variable()"
   ]
  },
  {
   "cell_type": "code",
   "execution_count": null,
   "id": "ac072b87-5efb-46d0-9d37-206cbc904565",
   "metadata": {},
   "outputs": [],
   "source": [
    "print(a)"
   ]
  },
  {
   "cell_type": "code",
   "execution_count": 8,
   "id": "aad8dcf6-7bdc-4f04-80bc-0c0ca145a625",
   "metadata": {},
   "outputs": [],
   "source": [
    "def f():\n",
    "    a = 5\n",
    "    b = 6\n",
    "    c = 7\n",
    "    return a, b, c"
   ]
  },
  {
   "cell_type": "code",
   "execution_count": 9,
   "id": "6a8d969a-283e-484f-b7af-a1180d3bf29e",
   "metadata": {},
   "outputs": [],
   "source": [
    "a, b, c = f()"
   ]
  },
  {
   "cell_type": "code",
   "execution_count": 10,
   "id": "da8b442d-21c5-4e38-bb47-7c66a475fa15",
   "metadata": {},
   "outputs": [
    {
     "name": "stdout",
     "output_type": "stream",
     "text": [
      "5 6 7\n"
     ]
    }
   ],
   "source": [
    "print(a, b, c)"
   ]
  },
  {
   "cell_type": "code",
   "execution_count": 11,
   "id": "42fb97be-2541-448b-8c44-3e8ba91eaf7f",
   "metadata": {},
   "outputs": [],
   "source": [
    "return_value = f()"
   ]
  },
  {
   "cell_type": "code",
   "execution_count": 12,
   "id": "f3facbed-c375-45d5-9c48-34de0fd6c988",
   "metadata": {},
   "outputs": [
    {
     "data": {
      "text/plain": [
       "(5, 6, 7)"
      ]
     },
     "execution_count": 12,
     "metadata": {},
     "output_type": "execute_result"
    }
   ],
   "source": [
    "return_value"
   ]
  },
  {
   "cell_type": "code",
   "execution_count": 103,
   "id": "529c45bb-cad7-4e28-8ad9-c6d436b75237",
   "metadata": {},
   "outputs": [
    {
     "data": {
      "text/plain": [
       "list"
      ]
     },
     "execution_count": 103,
     "metadata": {},
     "output_type": "execute_result"
    }
   ],
   "source": [
    "# 数据清洗，去除空格，去除标点符号，调整适当的大小写\n",
    "states = ['  Alabama ', 'Georgial!', 'geo&rgia', '  F#lOrIda', '  s%outh carolina##', 'west virginia?  ', '###!@Geor%gia']\n",
    "type(states)"
   ]
  },
  {
   "cell_type": "code",
   "execution_count": 104,
   "id": "0767605e-c829-488e-953f-3cd2fba452a3",
   "metadata": {},
   "outputs": [],
   "source": [
    "# 使用内建的字符串方法，结合标准库中的正则表达式模块re\n",
    "import re\n",
    "def clean_strings(strings):\n",
    "    result = []\n",
    "    for value in strings:\n",
    "        value = value.strip() # 去除数据中指定的符号\n",
    "        value = re.sub('[!#?@%^&]', '', value) \n",
    "        value = value.title()\n",
    "        result.append(value)\n",
    "    return result"
   ]
  },
  {
   "cell_type": "code",
   "execution_count": 105,
   "id": "8fb9a5f7-77e1-45d3-809d-8551988e5aab",
   "metadata": {},
   "outputs": [
    {
     "data": {
      "text/plain": [
       "['Alabama',\n",
       " 'Georgial',\n",
       " 'Georgia',\n",
       " 'Florida',\n",
       " 'South Carolina',\n",
       " 'West Virginia',\n",
       " 'Georgia']"
      ]
     },
     "execution_count": 105,
     "metadata": {},
     "output_type": "execute_result"
    }
   ],
   "source": [
    "clean_strings(states)"
   ]
  },
  {
   "cell_type": "code",
   "execution_count": 97,
   "id": "242b0100-bffb-4135-938b-9d27bad0c016",
   "metadata": {},
   "outputs": [],
   "source": [
    "import re\n",
    "def clean_strings(strings):\n",
    "    result = []\n",
    "    for value in strings:\n",
    "        value = value.strip()\n",
    "        value = re.sub('[!?#]', '', value)\n",
    "        value = value.title()\n",
    "        result.append(value)\n",
    "    return result"
   ]
  },
  {
   "cell_type": "code",
   "execution_count": 98,
   "id": "a2105372-e1c4-43a6-8590-a3cf0af190b0",
   "metadata": {},
   "outputs": [
    {
     "data": {
      "text/plain": [
       "['Alabama',\n",
       " 'Georgial',\n",
       " 'Georgia',\n",
       " 'Florida',\n",
       " 'South Carolina',\n",
       " 'West Virginia',\n",
       " 'Georgia']"
      ]
     },
     "execution_count": 98,
     "metadata": {},
     "output_type": "execute_result"
    }
   ],
   "source": [
    "clean_strings(states)"
   ]
  },
  {
   "cell_type": "code",
   "execution_count": 112,
   "id": "eec89ed4-1967-41ca-88d2-28e2f7b587cb",
   "metadata": {},
   "outputs": [],
   "source": [
    "def remove_punctuation(value):\n",
    "    return re.sub('[!#?@%^&]', '', value)\n",
    "clean_ops = [str.strip, remove_punctuation, str.title]\n",
    "def  clean_strings(strings, ops):\n",
    "    result = []\n",
    "    for value in strings:\n",
    "        for function in ops:\n",
    "           value = function(value)  \n",
    "        result.append(value)\n",
    "    return result"
   ]
  },
  {
   "cell_type": "code",
   "execution_count": 113,
   "id": "14df5264-100e-4701-9324-cc9d0b48d12e",
   "metadata": {},
   "outputs": [
    {
     "data": {
      "text/plain": [
       "['Alabama',\n",
       " 'Georgial',\n",
       " 'Georgia',\n",
       " 'Florida',\n",
       " 'South Carolina',\n",
       " 'West Virginia',\n",
       " 'Georgia']"
      ]
     },
     "execution_count": 113,
     "metadata": {},
     "output_type": "execute_result"
    }
   ],
   "source": [
    "clean_strings(states, clean_ops)"
   ]
  },
  {
   "cell_type": "code",
   "execution_count": 114,
   "id": "f9a81b4d-0947-4d88-ad03-61c261c654bd",
   "metadata": {},
   "outputs": [
    {
     "name": "stdout",
     "output_type": "stream",
     "text": [
      "  Alabama \n",
      "Georgial\n",
      "georgia\n",
      "  FlOrIda\n",
      "  south carolina\n",
      "west virginia  \n",
      "Georgia\n"
     ]
    }
   ],
   "source": [
    "for x in map(remove_punctuation, states):\n",
    "    print(x)"
   ]
  },
  {
   "cell_type": "code",
   "execution_count": 115,
   "id": "a0aac8d5-feda-40cd-ba34-d630b9aaf6e1",
   "metadata": {},
   "outputs": [],
   "source": [
    "def short_function(x):\n",
    "    return x * 2\n",
    "equiv_anon = lambda x: x * 2"
   ]
  },
  {
   "cell_type": "code",
   "execution_count": 116,
   "id": "f171e312-1fc6-4e3b-9a2e-f0eb6e39e346",
   "metadata": {},
   "outputs": [
    {
     "data": {
      "text/plain": [
       "<function __main__.<lambda>(x)>"
      ]
     },
     "execution_count": 116,
     "metadata": {},
     "output_type": "execute_result"
    }
   ],
   "source": [
    "equiv_anon"
   ]
  },
  {
   "cell_type": "code",
   "execution_count": 117,
   "id": "b8863f6d-cfba-4f43-abea-ee347fc21eae",
   "metadata": {},
   "outputs": [
    {
     "ename": "SyntaxError",
     "evalue": "invalid syntax (3382742497.py, line 1)",
     "output_type": "error",
     "traceback": [
      "\u001b[1;36m  Cell \u001b[1;32mIn[117], line 1\u001b[1;36m\u001b[0m\n\u001b[1;33m    lambda 2\u001b[0m\n\u001b[1;37m           ^\u001b[0m\n\u001b[1;31mSyntaxError\u001b[0m\u001b[1;31m:\u001b[0m invalid syntax\n"
     ]
    }
   ],
   "source": [
    "lambda 2"
   ]
  },
  {
   "cell_type": "code",
   "execution_count": 118,
   "id": "b80feafb-66c6-4aeb-b2e1-21263a70b792",
   "metadata": {},
   "outputs": [
    {
     "data": {
      "text/plain": [
       "4"
      ]
     },
     "execution_count": 118,
     "metadata": {},
     "output_type": "execute_result"
    }
   ],
   "source": [
    "equiv_anon(2)"
   ]
  },
  {
   "cell_type": "code",
   "execution_count": 121,
   "id": "bde7d814-1fc4-47b3-886f-ad467ceacb10",
   "metadata": {},
   "outputs": [],
   "source": [
    "strings = ['aaa', 'foo', 'card', 'abab', 'bar', 'aaaa', 'dada', 'egg']"
   ]
  },
  {
   "cell_type": "code",
   "execution_count": 122,
   "id": "4208c5d8-ad9a-4e56-b808-2fcca90257ac",
   "metadata": {},
   "outputs": [],
   "source": [
    "strings.sort(key = lambda x: len(set(list(x))))"
   ]
  },
  {
   "cell_type": "code",
   "execution_count": 123,
   "id": "f64e5866-6d0a-42ff-a260-3efe94720f31",
   "metadata": {},
   "outputs": [
    {
     "data": {
      "text/plain": [
       "['aaa', 'aaaa', 'foo', 'abab', 'dada', 'egg', 'bar', 'card']"
      ]
     },
     "execution_count": 123,
     "metadata": {},
     "output_type": "execute_result"
    }
   ],
   "source": [
    "strings"
   ]
  },
  {
   "cell_type": "code",
   "execution_count": 10,
   "id": "a9912d7a-fab5-40d6-9c61-181707a3fd3f",
   "metadata": {},
   "outputs": [],
   "source": [
    "def add_number(x, y):\n",
    "    return x + y"
   ]
  },
  {
   "cell_type": "code",
   "execution_count": 14,
   "id": "f1e8ce3f-1f69-402c-b42a-7613393472db",
   "metadata": {},
   "outputs": [],
   "source": [
    "add_five = lambda y:add_number(5, y)"
   ]
  },
  {
   "cell_type": "code",
   "execution_count": 22,
   "id": "4370ed56-3119-4814-966c-4f3025d669c6",
   "metadata": {},
   "outputs": [],
   "source": [
    "from functools import partial\n",
    "add_five = partial(add_number, 5)"
   ]
  },
  {
   "cell_type": "code",
   "execution_count": 23,
   "id": "445962ed-46f3-4719-b985-69b7ce7b053a",
   "metadata": {},
   "outputs": [
    {
     "data": {
      "text/plain": [
       "14"
      ]
     },
     "execution_count": 23,
     "metadata": {},
     "output_type": "execute_result"
    }
   ],
   "source": [
    "add_five(9)"
   ]
  },
  {
   "cell_type": "code",
   "execution_count": 24,
   "id": "7c55ed1e-3e03-4170-9256-6a1e2fa2206b",
   "metadata": {},
   "outputs": [],
   "source": [
    "some_dict = {'a': 1, 'b':2, 'c':3}"
   ]
  },
  {
   "cell_type": "code",
   "execution_count": 25,
   "id": "27b32ddc-40c8-44ff-ac83-00ef9097c08d",
   "metadata": {},
   "outputs": [
    {
     "name": "stdout",
     "output_type": "stream",
     "text": [
      "a\n",
      "b\n",
      "c\n"
     ]
    }
   ],
   "source": [
    "for key in some_dict:\n",
    "    print(key)"
   ]
  },
  {
   "cell_type": "code",
   "execution_count": 26,
   "id": "0381f5bd-d20a-494e-969d-0448e7655f56",
   "metadata": {},
   "outputs": [],
   "source": [
    "some_iterator = iter(some_dict)\n"
   ]
  },
  {
   "cell_type": "code",
   "execution_count": 27,
   "id": "85a8eeed-5c11-4558-afa5-2363202d4b5d",
   "metadata": {},
   "outputs": [
    {
     "data": {
      "text/plain": [
       "<dict_keyiterator at 0x2284a23c360>"
      ]
     },
     "execution_count": 27,
     "metadata": {},
     "output_type": "execute_result"
    }
   ],
   "source": [
    "some_iterator"
   ]
  },
  {
   "cell_type": "code",
   "execution_count": 28,
   "id": "e0d70bcb-48df-4824-bf57-2a7237a35e55",
   "metadata": {},
   "outputs": [
    {
     "data": {
      "text/plain": [
       "['a', 'b', 'c']"
      ]
     },
     "execution_count": 28,
     "metadata": {},
     "output_type": "execute_result"
    }
   ],
   "source": [
    "list(some_iterator)"
   ]
  },
  {
   "cell_type": "code",
   "execution_count": 45,
   "id": "f32c6c2a-bff0-44ab-b373-9261217f18cd",
   "metadata": {},
   "outputs": [],
   "source": [
    "def squares(n=10):\n",
    "    print('Generating squares from 1 to {0}'.format(n ** 2))\n",
    "    for i in range(1, n + 1):\n",
    "        yield i ** 2"
   ]
  },
  {
   "cell_type": "code",
   "execution_count": 46,
   "id": "d2e909ca-2775-4c00-8c72-6ce2da160891",
   "metadata": {},
   "outputs": [],
   "source": [
    "gen = squares()"
   ]
  },
  {
   "cell_type": "code",
   "execution_count": 47,
   "id": "2ffaf610-2a74-4bf4-9ce8-3a5f71d3d675",
   "metadata": {},
   "outputs": [
    {
     "data": {
      "text/plain": [
       "<generator object squares at 0x000002284986D300>"
      ]
     },
     "execution_count": 47,
     "metadata": {},
     "output_type": "execute_result"
    }
   ],
   "source": [
    "gen"
   ]
  },
  {
   "cell_type": "code",
   "execution_count": 48,
   "id": "b473c146-c75b-440e-b8eb-cd2e1aa8ad5f",
   "metadata": {},
   "outputs": [
    {
     "name": "stdout",
     "output_type": "stream",
     "text": [
      "Generating squares from 1 to 100\n",
      "149162536496481100"
     ]
    }
   ],
   "source": [
    "for x in gen:\n",
    "    print(x, end = '')"
   ]
  },
  {
   "cell_type": "code",
   "execution_count": null,
   "id": "427665ed-00a9-4ca0-8a28-93fb67512df6",
   "metadata": {},
   "outputs": [],
   "source": []
  },
  {
   "cell_type": "code",
   "execution_count": null,
   "id": "5a936afd-88a0-47c5-a997-94d14b604247",
   "metadata": {},
   "outputs": [],
   "source": []
  }
 ],
 "metadata": {
  "kernelspec": {
   "display_name": "Python 3 (ipykernel)",
   "language": "python",
   "name": "python3"
  },
  "language_info": {
   "codemirror_mode": {
    "name": "ipython",
    "version": 3
   },
   "file_extension": ".py",
   "mimetype": "text/x-python",
   "name": "python",
   "nbconvert_exporter": "python",
   "pygments_lexer": "ipython3",
   "version": "3.11.4"
  }
 },
 "nbformat": 4,
 "nbformat_minor": 5
}
