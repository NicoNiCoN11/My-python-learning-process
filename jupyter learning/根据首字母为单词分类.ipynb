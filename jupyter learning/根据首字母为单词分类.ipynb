{
 "cells": [
  {
   "cell_type": "markdown",
   "id": "a79fe982-671d-4a34-a39b-a2ddbed4d2a1",
   "metadata": {},
   "source": [
    "### 根据首字母为单词分类"
   ]
  },
  {
   "cell_type": "code",
   "execution_count": 1,
   "id": "9a5ebea0-5b7a-49d5-9609-e0f98f9cbadc",
   "metadata": {},
   "outputs": [],
   "source": [
    "words =  ['Return', 'Options', 'rabbit', 'apple', 'Apple', 'bat', 'banana', 'grape', 'hands', 'Head', 'breast', 'English', 'egg']"
   ]
  },
  {
   "cell_type": "code",
   "execution_count": 2,
   "id": "e0ca8882-e5bd-4acb-97dd-4327bcf20a90",
   "metadata": {},
   "outputs": [],
   "source": [
    "first_letter = {}"
   ]
  },
  {
   "cell_type": "code",
   "execution_count": 3,
   "id": "e5ef8220-7887-46a6-85ef-2bd812cec28a",
   "metadata": {},
   "outputs": [
    {
     "data": {
      "text/plain": [
       "{'R': ['Return'],\n",
       " 'O': ['Options'],\n",
       " 'r': ['rabbit'],\n",
       " 'a': ['apple'],\n",
       " 'A': ['Apple'],\n",
       " 'b': ['bat', 'banana', 'breast'],\n",
       " 'g': ['grape'],\n",
       " 'h': ['hands'],\n",
       " 'H': ['Head'],\n",
       " 'E': ['English'],\n",
       " 'e': ['egg']}"
      ]
     },
     "execution_count": 3,
     "metadata": {},
     "output_type": "execute_result"
    }
   ],
   "source": [
    "for word in words:\n",
    "    letter = word[0]\n",
    "    if letter not in first_letter:\n",
    "        first_letter[letter] = [word]\n",
    "    else:\n",
    "        first_letter[letter].append(word)\n",
    "first_letter"
   ]
  },
  {
   "cell_type": "code",
   "execution_count": 4,
   "id": "e3bddf4f-99b4-4cbb-acc9-f049b3be1d84",
   "metadata": {},
   "outputs": [
    {
     "data": {
      "text/plain": [
       "{'R': ['Return', 'Return'],\n",
       " 'O': ['Options', 'Options'],\n",
       " 'r': ['rabbit', 'rabbit'],\n",
       " 'a': ['apple', 'apple'],\n",
       " 'A': ['Apple', 'Apple'],\n",
       " 'b': ['bat', 'banana', 'breast', 'bat', 'banana', 'breast'],\n",
       " 'g': ['grape', 'grape'],\n",
       " 'h': ['hands', 'hands'],\n",
       " 'H': ['Head', 'Head'],\n",
       " 'E': ['English', 'English'],\n",
       " 'e': ['egg', 'egg']}"
      ]
     },
     "execution_count": 4,
     "metadata": {},
     "output_type": "execute_result"
    }
   ],
   "source": [
    "for word in words:\n",
    "    letter = word[0]\n",
    "    first_letter.setdefault(letter, []).append(word)\n",
    "first_letter"
   ]
  },
  {
   "cell_type": "code",
   "execution_count": 5,
   "id": "0ebb1aac-ba78-47c1-bd59-91c70ca4d4cc",
   "metadata": {},
   "outputs": [],
   "source": [
    "words = ['Return', 'Options', 'rabbit', 'apple', 'Apple', 'bat', 'banana', 'grape', 'hands', 'Head', 'breast', 'English', 'egg']  # 创建单词列表，输入需要分类的单词 "
   ]
  },
  {
   "cell_type": "code",
   "execution_count": 6,
   "id": "46ed6385-bda7-49c0-b437-d34647ed6a30",
   "metadata": {},
   "outputs": [],
   "source": [
    "by_letters = {} # 创建字典"
   ]
  },
  {
   "cell_type": "code",
   "execution_count": null,
   "id": "8d159f03-9409-4738-a96c-ccd8495302da",
   "metadata": {},
   "outputs": [],
   "source": [
    "for word in words:\n",
    "    letter = word[0]\n",
    "    if letter not in by_letters:\n",
    "        by_letters[letter] = word\n",
    "    else:\n",
    "        by_letters[letter].append(word)\n",
    "by_letters"
   ]
  },
  {
   "cell_type": "code",
   "execution_count": null,
   "id": "af16cb71-52ea-4db5-b2f9-960e9bc83d1a",
   "metadata": {},
   "outputs": [],
   "source": []
  },
  {
   "cell_type": "code",
   "execution_count": null,
   "id": "e6dc21d9-7b8f-4082-90e0-7e4beba3e7ca",
   "metadata": {},
   "outputs": [],
   "source": []
  },
  {
   "cell_type": "code",
   "execution_count": null,
   "id": "8896f16b-0503-4d4f-8180-095477dc7b80",
   "metadata": {},
   "outputs": [],
   "source": []
  },
  {
   "cell_type": "code",
   "execution_count": null,
   "id": "15d3cda9-2709-41fa-b40c-ce5ff65a592a",
   "metadata": {},
   "outputs": [],
   "source": []
  },
  {
   "cell_type": "code",
   "execution_count": null,
   "id": "dc9b647c-81ce-4dff-bd41-ac74db6b820c",
   "metadata": {},
   "outputs": [],
   "source": []
  },
  {
   "cell_type": "code",
   "execution_count": null,
   "id": "9636a1e3-a74c-4e8d-a0ac-4f212f8370e2",
   "metadata": {},
   "outputs": [],
   "source": []
  },
  {
   "cell_type": "code",
   "execution_count": null,
   "id": "04a539ed-a321-400c-8d71-933e1e0370bf",
   "metadata": {},
   "outputs": [],
   "source": []
  },
  {
   "cell_type": "code",
   "execution_count": null,
   "id": "7999d47f-e5b6-4b52-a48c-fea7ba097c9e",
   "metadata": {},
   "outputs": [],
   "source": []
  },
  {
   "cell_type": "code",
   "execution_count": null,
   "id": "39e0abaa-3fa6-48c2-a2b8-69d83f6dc6f1",
   "metadata": {},
   "outputs": [],
   "source": []
  },
  {
   "cell_type": "code",
   "execution_count": null,
   "id": "8074ed96-c822-4b6b-9960-9efe4c83f2a5",
   "metadata": {},
   "outputs": [],
   "source": []
  },
  {
   "cell_type": "code",
   "execution_count": null,
   "id": "eb84d77d-0f3f-424d-bc0a-2d6676304121",
   "metadata": {},
   "outputs": [],
   "source": []
  }
 ],
 "metadata": {
  "kernelspec": {
   "display_name": "Python 3 (ipykernel)",
   "language": "python",
   "name": "python3"
  },
  "language_info": {
   "codemirror_mode": {
    "name": "ipython",
    "version": 3
   },
   "file_extension": ".py",
   "mimetype": "text/x-python",
   "name": "python",
   "nbconvert_exporter": "python",
   "pygments_lexer": "ipython3",
   "version": "3.11.4"
  }
 },
 "nbformat": 4,
 "nbformat_minor": 5
}
