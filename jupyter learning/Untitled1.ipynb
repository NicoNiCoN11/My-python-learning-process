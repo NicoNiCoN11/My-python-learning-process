{
 "cells": [
  {
   "cell_type": "code",
   "execution_count": 1,
   "id": "457310d8-646c-45e9-8d44-790c06bf706e",
   "metadata": {},
   "outputs": [],
   "source": [
    "%matplotlib notebook"
   ]
  },
  {
   "cell_type": "code",
   "execution_count": 3,
   "id": "3f359373-1fd3-4077-8055-36dd3adca236",
   "metadata": {},
   "outputs": [],
   "source": [
    "import matplotlib.pyplot as plt\n",
    "import numpy as np\n",
    "import pandas as"
   ]
  },
  {
   "cell_type": "code",
   "execution_count": null,
   "id": "6fef0108-8884-4bb4-89f5-c94f67da0fd2",
   "metadata": {},
   "outputs": [],
   "source": [
    "ax1 = fig.add_sub"
   ]
  }
 ],
 "metadata": {
  "kernelspec": {
   "display_name": "Python 3 (ipykernel)",
   "language": "python",
   "name": "python3"
  },
  "language_info": {
   "codemirror_mode": {
    "name": "ipython",
    "version": 3
   },
   "file_extension": ".py",
   "mimetype": "text/x-python",
   "name": "python",
   "nbconvert_exporter": "python",
   "pygments_lexer": "ipython3",
   "version": "3.11.4"
  }
 },
 "nbformat": 4,
 "nbformat_minor": 5
}
