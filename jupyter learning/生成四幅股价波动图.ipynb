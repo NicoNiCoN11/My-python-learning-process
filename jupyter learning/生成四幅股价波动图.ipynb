{
 "cells": [
  {
   "cell_type": "code",
   "execution_count": 2,
   "id": "26635706-008d-48b8-a58a-c7826d020048",
   "metadata": {},
   "outputs": [],
   "source": [
    "import pandas as pd\n",
    "import random\n",
    "import numpy as np\n",
    "import time\n",
    "import matplotlib.pyplot as plt"
   ]
  },
  {
   "cell_type": "code",
   "execution_count": 3,
   "id": "a098a4c4-92b7-4a21-af16-9bdd0b038776",
   "metadata": {},
   "outputs": [],
   "source": [
    "# 创建array\n",
    "array1 = np.random.normal(0, 1, 100)"
   ]
  },
  {
   "cell_type": "code",
   "execution_count": null,
   "id": "7b78ad6a-d4e2-442b-a877-00f5df0858aa",
   "metadata": {},
   "outputs": [],
   "source": [
    "plt.figure(figuresize = (100, 20), dpi = 200)\n",
    "x = np.arange(1, 100, 1)\n",
    "datetime1 = "
   ]
  }
 ],
 "metadata": {
  "kernelspec": {
   "display_name": "Python 3 (ipykernel)",
   "language": "python",
   "name": "python3"
  },
  "language_info": {
   "codemirror_mode": {
    "name": "ipython",
    "version": 3
   },
   "file_extension": ".py",
   "mimetype": "text/x-python",
   "name": "python",
   "nbconvert_exporter": "python",
   "pygments_lexer": "ipython3",
   "version": "3.11.4"
  }
 },
 "nbformat": 4,
 "nbformat_minor": 5
}
