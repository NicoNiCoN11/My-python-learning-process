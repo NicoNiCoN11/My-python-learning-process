{
 "cells": [
  {
   "cell_type": "code",
   "execution_count": 2,
   "id": "6fe2bf2b-307b-4140-90ce-7bb8cd6ca436",
   "metadata": {},
   "outputs": [
    {
     "data": {
      "text/plain": [
       "array([[[6.74668490e-312, 2.47032823e-322],\n",
       "        [0.00000000e+000, 0.00000000e+000],\n",
       "        [1.03977794e-312, 1.04082753e-047]],\n",
       "\n",
       "       [[5.94626364e-091, 1.08533672e-042],\n",
       "        [1.26951534e-076, 1.77109791e-051],\n",
       "        [3.99910963e+252, 1.90979636e-312]]])"
      ]
     },
     "execution_count": 2,
     "metadata": {},
     "output_type": "execute_result"
    }
   ],
   "source": [
    "import numpy as np\n",
    "np.empty((2, 3, 2))"
   ]
  },
  {
   "cell_type": "code",
   "execution_count": 3,
   "id": "e5833f3b-7cfe-4373-8c21-50a1983e6207",
   "metadata": {},
   "outputs": [
    {
     "data": {
      "text/plain": [
       "array([ 0,  1,  2,  3,  4,  5,  6,  7,  8,  9, 10, 11, 12, 13, 14])"
      ]
     },
     "execution_count": 3,
     "metadata": {},
     "output_type": "execute_result"
    }
   ],
   "source": [
    "np. arange(15)"
   ]
  },
  {
   "cell_type": "code",
   "execution_count": null,
   "id": "08537538-7aa7-48d3-a747-8b318a1bccde",
   "metadata": {},
   "outputs": [],
   "source": [
    "arr1 = np,f"
   ]
  }
 ],
 "metadata": {
  "kernelspec": {
   "display_name": "Python 3 (ipykernel)",
   "language": "python",
   "name": "python3"
  },
  "language_info": {
   "codemirror_mode": {
    "name": "ipython",
    "version": 3
   },
   "file_extension": ".py",
   "mimetype": "text/x-python",
   "name": "python",
   "nbconvert_exporter": "python",
   "pygments_lexer": "ipython3",
   "version": "3.11.4"
  }
 },
 "nbformat": 4,
 "nbformat_minor": 5
}
