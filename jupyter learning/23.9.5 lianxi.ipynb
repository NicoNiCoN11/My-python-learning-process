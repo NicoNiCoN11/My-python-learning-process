{
 "cells": [
  {
   "cell_type": "code",
   "execution_count": 1,
   "id": "454763ef-48bd-40ec-9e5a-4e4134c953ca",
   "metadata": {},
   "outputs": [
    {
     "name": "stdout",
     "output_type": "stream",
     "text": [
      "hello world!!\n"
     ]
    }
   ],
   "source": [
    "print(\"hello world!!\")"
   ]
  },
  {
   "cell_type": "markdown",
   "id": "f36f4c96-fc79-4950-a2c7-c9d086e85ebe",
   "metadata": {},
   "source": [
    "# 这是一号标题"
   ]
  },
  {
   "cell_type": "markdown",
   "id": "cc601a58-5940-40c6-ac8a-b22c39adb3dc",
   "metadata": {},
   "source": [
    "# 这是一号标题\n",
    "## 这是二号标题\n",
    "### 这是三号标题\n",
    ">这是引用\n",
    "\n",
    "[这是外部链接 点我进入百度](www.bing.com)\n",
    "![这是图片](https://th.bing.com/th/id/OIP.FNs1CCKP0NUvuYzcFvrl8wHaFP?pid=ImgDet&rs=1)"
   ]
  },
  {
   "cell_type": "markdown",
   "id": "3d1df189-f23d-4dcd-b742-cc2c05456ca5",
   "metadata": {},
   "source": [
    "爱因斯坦方程 $E = m^2$"
   ]
  },
  {
   "cell_type": "markdown",
   "id": "978dfdce-c903-4d3c-bcdc-9ada26063db5",
   "metadata": {},
   "source": [
    "$$x = \\frac{-b\\pm\\ \\sqrt{b^2-4ac}}{2a}$$"
   ]
  },
  {
   "cell_type": "code",
   "execution_count": null,
   "id": "01c410a7-cb0d-4634-b387-b8dc948ab147",
   "metadata": {},
   "outputs": [],
   "source": []
  }
 ],
 "metadata": {
  "kernelspec": {
   "display_name": "Python 3 (ipykernel)",
   "language": "python",
   "name": "python3"
  },
  "language_info": {
   "codemirror_mode": {
    "name": "ipython",
    "version": 3
   },
   "file_extension": ".py",
   "mimetype": "text/x-python",
   "name": "python",
   "nbconvert_exporter": "python",
   "pygments_lexer": "ipython3",
   "version": "3.11.4"
  }
 },
 "nbformat": 4,
 "nbformat_minor": 5
}
